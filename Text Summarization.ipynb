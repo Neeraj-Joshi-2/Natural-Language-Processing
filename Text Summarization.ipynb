{
 "cells": [
  {
   "cell_type": "markdown",
   "id": "79c9a415",
   "metadata": {},
   "source": [
    "# EXPERIMENT - 6"
   ]
  },
  {
   "cell_type": "markdown",
   "id": "86a35f04",
   "metadata": {},
   "source": [
    "### Neeraj Joshi\n",
    "### SAP - 500076568\n",
    "### Roll No - R177219120\n",
    "### AIM : TEXT SUMMARIZATION"
   ]
  },
  {
   "cell_type": "code",
   "execution_count": 1,
   "id": "0f9d7566",
   "metadata": {},
   "outputs": [],
   "source": [
    "import pandas as pd\n",
    "import numpy as np\n",
    "import nltk\n",
    "from nltk.stem import WordNetLemmatizer\n",
    "from sklearn.feature_extraction.text import TfidfVectorizer\n",
    "from sklearn.metrics.pairwise import cosine_similarity"
   ]
  },
  {
   "cell_type": "markdown",
   "id": "75f3b228",
   "metadata": {},
   "source": [
    "### Paragraph"
   ]
  },
  {
   "cell_type": "code",
   "execution_count": 2,
   "id": "6b1fb6e7",
   "metadata": {},
   "outputs": [],
   "source": [
    "text = \"Junk foods taste good that’s why it is mostly liked by everyone of any age group especially kids and school going children. They generally ask for the junk food daily because they have been trend so by their parents from the childhood. They never have been discussed by their parents about the harmful effects of junk foods over health. According to the research by scientists, it has been found that junk foods have negative effects on the health in many ways. They are generally fried food found in the market in the packets. They become high in calories, high in cholesterol, low in healthy nutrients, high in sodium mineral, high in sugar, starch, unhealthy fat, lack of protein and lack of dietary fibers. Processed and junk foods are the means of rapid and unhealthy weight gain and negatively impact the whole body throughout the life. It makes able a person to gain excessive weight which is called as obesity. Junk foods tastes good and looks good however do not fulfil the healthy calorie requirement of the body. Some of the foods like french fries, fried foods, pizza, burgers, candy, soft drinks, baked goods, ice cream, cookies, etc are the example of high-sugar and high-fat containing foods. It is found according to the Centres for Disease Control and Prevention that Kids and children eating junk food are more prone to the type-2 diabetes. In type-2 diabetes our body become unable to regulate blood sugar level. Risk of getting this disease is increasing as one become more obese or overweight. It increases the risk of kidney failure. Eating junk food daily lead us to the nutritional deficiencies in the body because it is lack of essential nutrients, vitamins, iron, minerals and dietary fibers. It increases risk of cardiovascular diseases because it is rich in saturated fat, sodium and bad cholesterol. High sodium and bad cholesterol diet increases blood pressure and overloads the heart functioning. One who like junk food develop more risk to put on extra weight and become fatter and unhealthier. Junk foods contain high level carbohydrate which spike blood sugar level and make person more lethargic, sleepy and less active and alert. Reflexes and senses of the people eating this food become dull day by day thus they live more sedentary life. Junk foods are the source of constipation and other disease like diabetes, heart ailments, clogged arteries, heart attack, strokes, etc because of being poor in nutrition. Junk food is the easiest way to gain unhealthy weight. The amount of fats and sugar in the food makes you gain weight rapidly. However, this is not a healthy weight. It is more of fats and cholesterol which will have a harmful impact on your health. Junk food is also one of the main reasons for the increase in obesity nowadays.This food only looks and tastes good, other than that, it has no positive points. The amount of calorie your body requires to stay fit is not fulfilled by this food. For instance, foods like French fries, burgers, candy, and cookies, all have high amounts of sugar and fats. Therefore, this can result in long-term illnesses like diabetes and high blood pressure. This may also result in kidney failure. Above all, you can get various nutritional deficiencies when you don’t consume the essential nutrients, vitamins, minerals and more. You become prone to cardiovascular diseases due to the consumption of bad cholesterol and fat plus sodium. In other words, all this interferes with the functioning of your heart. Furthermore, junk food contains a higher level of carbohydrates. It will instantly spike your blood sugar levels. This will result in lethargy, inactiveness, and sleepiness. A person reflex becomes dull overtime and they lead an inactive life. To make things worse, junk food also clogs your arteries and increases the risk of a heart attack. Therefore, it must be avoided at the first instance to save your life from becoming ruined.The main problem with junk food is that people don’t realize its ill effects now. When the time comes, it is too late. Most importantly, the issue is that it does not impact you instantly. It works on your overtime; you will face the consequences sooner or later. Thus, it is better to stop now.You can avoid junk food by encouraging your children from an early age to eat green vegetables. Their taste buds must be developed as such that they find healthy food tasty. Moreover, try to mix things up. Do not serve the same green vegetable daily in the same style. Incorporate different types of healthy food in their diet following different recipes. This will help them to try foods at home rather than being attracted to junk food.In short, do not deprive them completely of it as that will not help. Children will find one way or the other to have it. Make sure you give them junk food in limited quantities and at healthy periods of time.\""
   ]
  },
  {
   "cell_type": "markdown",
   "id": "ff443737",
   "metadata": {},
   "source": [
    "### Splitting the paragraph to sentences "
   ]
  },
  {
   "cell_type": "code",
   "execution_count": 3,
   "id": "9f31ceac",
   "metadata": {
    "scrolled": true
   },
   "outputs": [
    {
     "data": {
      "text/plain": [
       "['Junk foods taste good that’s why it is mostly liked by everyone of any age group especially kids and school going children',\n",
       " ' They generally ask for the junk food daily because they have been trend so by their parents from the childhood',\n",
       " ' They never have been discussed by their parents about the harmful effects of junk foods over health',\n",
       " ' According to the research by scientists, it has been found that junk foods have negative effects on the health in many ways',\n",
       " ' They are generally fried food found in the market in the packets',\n",
       " ' They become high in calories, high in cholesterol, low in healthy nutrients, high in sodium mineral, high in sugar, starch, unhealthy fat, lack of protein and lack of dietary fibers',\n",
       " ' Processed and junk foods are the means of rapid and unhealthy weight gain and negatively impact the whole body throughout the life',\n",
       " ' It makes able a person to gain excessive weight which is called as obesity',\n",
       " ' Junk foods tastes good and looks good however do not fulfil the healthy calorie requirement of the body',\n",
       " ' Some of the foods like french fries, fried foods, pizza, burgers, candy, soft drinks, baked goods, ice cream, cookies, etc are the example of high-sugar and high-fat containing foods',\n",
       " ' It is found according to the Centres for Disease Control and Prevention that Kids and children eating junk food are more prone to the type-2 diabetes',\n",
       " ' In type-2 diabetes our body become unable to regulate blood sugar level',\n",
       " ' Risk of getting this disease is increasing as one become more obese or overweight',\n",
       " ' It increases the risk of kidney failure',\n",
       " ' Eating junk food daily lead us to the nutritional deficiencies in the body because it is lack of essential nutrients, vitamins, iron, minerals and dietary fibers',\n",
       " ' It increases risk of cardiovascular diseases because it is rich in saturated fat, sodium and bad cholesterol',\n",
       " ' High sodium and bad cholesterol diet increases blood pressure and overloads the heart functioning',\n",
       " ' One who like junk food develop more risk to put on extra weight and become fatter and unhealthier',\n",
       " ' Junk foods contain high level carbohydrate which spike blood sugar level and make person more lethargic, sleepy and less active and alert',\n",
       " ' Reflexes and senses of the people eating this food become dull day by day thus they live more sedentary life',\n",
       " ' Junk foods are the source of constipation and other disease like diabetes, heart ailments, clogged arteries, heart attack, strokes, etc because of being poor in nutrition',\n",
       " ' Junk food is the easiest way to gain unhealthy weight',\n",
       " ' The amount of fats and sugar in the food makes you gain weight rapidly',\n",
       " ' However, this is not a healthy weight',\n",
       " ' It is more of fats and cholesterol which will have a harmful impact on your health',\n",
       " ' Junk food is also one of the main reasons for the increase in obesity nowadays',\n",
       " 'This food only looks and tastes good, other than that, it has no positive points',\n",
       " ' The amount of calorie your body requires to stay fit is not fulfilled by this food',\n",
       " ' For instance, foods like French fries, burgers, candy, and cookies, all have high amounts of sugar and fats',\n",
       " ' Therefore, this can result in long-term illnesses like diabetes and high blood pressure',\n",
       " ' This may also result in kidney failure',\n",
       " ' Above all, you can get various nutritional deficiencies when you don’t consume the essential nutrients, vitamins, minerals and more',\n",
       " ' You become prone to cardiovascular diseases due to the consumption of bad cholesterol and fat plus sodium',\n",
       " ' In other words, all this interferes with the functioning of your heart',\n",
       " ' Furthermore, junk food contains a higher level of carbohydrates',\n",
       " ' It will instantly spike your blood sugar levels',\n",
       " ' This will result in lethargy, inactiveness, and sleepiness',\n",
       " ' A person reflex becomes dull overtime and they lead an inactive life',\n",
       " ' To make things worse, junk food also clogs your arteries and increases the risk of a heart attack',\n",
       " ' Therefore, it must be avoided at the first instance to save your life from becoming ruined',\n",
       " 'The main problem with junk food is that people don’t realize its ill effects now',\n",
       " ' When the time comes, it is too late',\n",
       " ' Most importantly, the issue is that it does not impact you instantly',\n",
       " ' It works on your overtime; you will face the consequences sooner or later',\n",
       " ' Thus, it is better to stop now',\n",
       " 'You can avoid junk food by encouraging your children from an early age to eat green vegetables',\n",
       " ' Their taste buds must be developed as such that they find healthy food tasty',\n",
       " ' Moreover, try to mix things up',\n",
       " ' Do not serve the same green vegetable daily in the same style',\n",
       " ' Incorporate different types of healthy food in their diet following different recipes',\n",
       " ' This will help them to try foods at home rather than being attracted to junk food',\n",
       " 'In short, do not deprive them completely of it as that will not help',\n",
       " ' Children will find one way or the other to have it',\n",
       " ' Make sure you give them junk food in limited quantities and at healthy periods of time',\n",
       " '']"
      ]
     },
     "execution_count": 3,
     "metadata": {},
     "output_type": "execute_result"
    }
   ],
   "source": [
    "text_lst = text.split(\".\")\n",
    "text_lst"
   ]
  },
  {
   "cell_type": "markdown",
   "id": "6332481b",
   "metadata": {},
   "source": [
    "### List to DataFrame "
   ]
  },
  {
   "cell_type": "code",
   "execution_count": 4,
   "id": "690e52e6",
   "metadata": {
    "scrolled": false
   },
   "outputs": [
    {
     "data": {
      "text/html": [
       "<div>\n",
       "<style scoped>\n",
       "    .dataframe tbody tr th:only-of-type {\n",
       "        vertical-align: middle;\n",
       "    }\n",
       "\n",
       "    .dataframe tbody tr th {\n",
       "        vertical-align: top;\n",
       "    }\n",
       "\n",
       "    .dataframe thead th {\n",
       "        text-align: right;\n",
       "    }\n",
       "</style>\n",
       "<table border=\"1\" class=\"dataframe\">\n",
       "  <thead>\n",
       "    <tr style=\"text-align: right;\">\n",
       "      <th></th>\n",
       "      <th>text</th>\n",
       "    </tr>\n",
       "  </thead>\n",
       "  <tbody>\n",
       "    <tr>\n",
       "      <th>0</th>\n",
       "      <td>Junk foods taste good that’s why it is mostly ...</td>\n",
       "    </tr>\n",
       "    <tr>\n",
       "      <th>1</th>\n",
       "      <td>They generally ask for the junk food daily be...</td>\n",
       "    </tr>\n",
       "    <tr>\n",
       "      <th>2</th>\n",
       "      <td>They never have been discussed by their paren...</td>\n",
       "    </tr>\n",
       "  </tbody>\n",
       "</table>\n",
       "</div>"
      ],
      "text/plain": [
       "                                                text\n",
       "0  Junk foods taste good that’s why it is mostly ...\n",
       "1   They generally ask for the junk food daily be...\n",
       "2   They never have been discussed by their paren..."
      ]
     },
     "execution_count": 4,
     "metadata": {},
     "output_type": "execute_result"
    }
   ],
   "source": [
    "data = pd.DataFrame(text_lst)\n",
    "data.rename(columns={0:'text'},inplace = True)\n",
    "data.head(3)"
   ]
  },
  {
   "cell_type": "code",
   "execution_count": 5,
   "id": "781e09cd",
   "metadata": {},
   "outputs": [],
   "source": [
    "saveData = data"
   ]
  },
  {
   "cell_type": "markdown",
   "id": "93b5c879",
   "metadata": {},
   "source": [
    "### Lowercasing "
   ]
  },
  {
   "cell_type": "code",
   "execution_count": 6,
   "id": "5491172a",
   "metadata": {
    "scrolled": false
   },
   "outputs": [
    {
     "data": {
      "text/html": [
       "<div>\n",
       "<style scoped>\n",
       "    .dataframe tbody tr th:only-of-type {\n",
       "        vertical-align: middle;\n",
       "    }\n",
       "\n",
       "    .dataframe tbody tr th {\n",
       "        vertical-align: top;\n",
       "    }\n",
       "\n",
       "    .dataframe thead th {\n",
       "        text-align: right;\n",
       "    }\n",
       "</style>\n",
       "<table border=\"1\" class=\"dataframe\">\n",
       "  <thead>\n",
       "    <tr style=\"text-align: right;\">\n",
       "      <th></th>\n",
       "      <th>text</th>\n",
       "    </tr>\n",
       "  </thead>\n",
       "  <tbody>\n",
       "    <tr>\n",
       "      <th>0</th>\n",
       "      <td>junk foods taste good that’s why it is mostly ...</td>\n",
       "    </tr>\n",
       "    <tr>\n",
       "      <th>1</th>\n",
       "      <td>they generally ask for the junk food daily be...</td>\n",
       "    </tr>\n",
       "    <tr>\n",
       "      <th>2</th>\n",
       "      <td>they never have been discussed by their paren...</td>\n",
       "    </tr>\n",
       "  </tbody>\n",
       "</table>\n",
       "</div>"
      ],
      "text/plain": [
       "                                                text\n",
       "0  junk foods taste good that’s why it is mostly ...\n",
       "1   they generally ask for the junk food daily be...\n",
       "2   they never have been discussed by their paren..."
      ]
     },
     "execution_count": 6,
     "metadata": {},
     "output_type": "execute_result"
    }
   ],
   "source": [
    "data['text'] = data['text'].apply(lambda x : x.lower())\n",
    "data.head(3)"
   ]
  },
  {
   "cell_type": "markdown",
   "id": "598319b9",
   "metadata": {},
   "source": [
    "### Lemmatization "
   ]
  },
  {
   "cell_type": "code",
   "execution_count": 7,
   "id": "f7504638",
   "metadata": {},
   "outputs": [],
   "source": [
    "lemmatizer = WordNetLemmatizer()\n",
    "\n",
    "def lemmatize(column) :\n",
    "    lst = []\n",
    "    for i in column.split() :\n",
    "        lst.append(lemmatizer.lemmatize(i))\n",
    "    return \" \".join(lst)\n",
    "\n",
    "data.text = data['text'].apply(lemmatize)"
   ]
  },
  {
   "cell_type": "code",
   "execution_count": 8,
   "id": "66471c17",
   "metadata": {
    "scrolled": true
   },
   "outputs": [
    {
     "data": {
      "text/html": [
       "<div>\n",
       "<style scoped>\n",
       "    .dataframe tbody tr th:only-of-type {\n",
       "        vertical-align: middle;\n",
       "    }\n",
       "\n",
       "    .dataframe tbody tr th {\n",
       "        vertical-align: top;\n",
       "    }\n",
       "\n",
       "    .dataframe thead th {\n",
       "        text-align: right;\n",
       "    }\n",
       "</style>\n",
       "<table border=\"1\" class=\"dataframe\">\n",
       "  <thead>\n",
       "    <tr style=\"text-align: right;\">\n",
       "      <th></th>\n",
       "      <th>text</th>\n",
       "    </tr>\n",
       "  </thead>\n",
       "  <tbody>\n",
       "    <tr>\n",
       "      <th>0</th>\n",
       "      <td>junk food taste good that’s why it is mostly l...</td>\n",
       "    </tr>\n",
       "    <tr>\n",
       "      <th>1</th>\n",
       "      <td>they generally ask for the junk food daily bec...</td>\n",
       "    </tr>\n",
       "    <tr>\n",
       "      <th>2</th>\n",
       "      <td>they never have been discussed by their parent...</td>\n",
       "    </tr>\n",
       "    <tr>\n",
       "      <th>3</th>\n",
       "      <td>according to the research by scientists, it ha...</td>\n",
       "    </tr>\n",
       "    <tr>\n",
       "      <th>4</th>\n",
       "      <td>they are generally fried food found in the mar...</td>\n",
       "    </tr>\n",
       "  </tbody>\n",
       "</table>\n",
       "</div>"
      ],
      "text/plain": [
       "                                                text\n",
       "0  junk food taste good that’s why it is mostly l...\n",
       "1  they generally ask for the junk food daily bec...\n",
       "2  they never have been discussed by their parent...\n",
       "3  according to the research by scientists, it ha...\n",
       "4  they are generally fried food found in the mar..."
      ]
     },
     "execution_count": 8,
     "metadata": {},
     "output_type": "execute_result"
    }
   ],
   "source": [
    "data.head()"
   ]
  },
  {
   "cell_type": "markdown",
   "id": "f673fd9f",
   "metadata": {},
   "source": [
    "### Text to numerical vector (TF-IDF)"
   ]
  },
  {
   "cell_type": "code",
   "execution_count": 9,
   "id": "68e8645f",
   "metadata": {},
   "outputs": [],
   "source": [
    "tfidf = TfidfVectorizer(stop_words='english')\n",
    "tfidf_matrix = tfidf.fit_transform(data['text'])"
   ]
  },
  {
   "cell_type": "code",
   "execution_count": 10,
   "id": "6ae0642b",
   "metadata": {},
   "outputs": [],
   "source": [
    "tfidf_matrix = tfidf_matrix.toarray()"
   ]
  },
  {
   "cell_type": "markdown",
   "id": "32c7575b",
   "metadata": {},
   "source": [
    "### Computation of similarity between sentences"
   ]
  },
  {
   "cell_type": "code",
   "execution_count": 11,
   "id": "4fe2d6a2",
   "metadata": {},
   "outputs": [
    {
     "data": {
      "text/plain": [
       "array([[1.        , 0.05114904, 0.05815781, ..., 0.18030097, 0.04890992,\n",
       "        0.        ],\n",
       "       [0.05114904, 1.        , 0.23627883, ..., 0.        , 0.0612363 ,\n",
       "        0.        ],\n",
       "       [0.05815781, 0.23627883, 1.        , ..., 0.        , 0.06962729,\n",
       "        0.        ],\n",
       "       ...,\n",
       "       [0.18030097, 0.        , 0.        , ..., 1.        , 0.        ,\n",
       "        0.        ],\n",
       "       [0.04890992, 0.0612363 , 0.06962729, ..., 0.        , 1.        ,\n",
       "        0.        ],\n",
       "       [0.        , 0.        , 0.        , ..., 0.        , 0.        ,\n",
       "        0.        ]])"
      ]
     },
     "execution_count": 11,
     "metadata": {},
     "output_type": "execute_result"
    }
   ],
   "source": [
    "similarity = cosine_similarity(tfidf_matrix)\n",
    "similarity"
   ]
  },
  {
   "cell_type": "code",
   "execution_count": 12,
   "id": "1830397f",
   "metadata": {},
   "outputs": [
    {
     "data": {
      "text/plain": [
       "55"
      ]
     },
     "execution_count": 12,
     "metadata": {},
     "output_type": "execute_result"
    }
   ],
   "source": [
    "len(similarity)"
   ]
  },
  {
   "cell_type": "markdown",
   "id": "fceadc21",
   "metadata": {},
   "source": [
    "### Mean of similarity to find highly alike sentences wrt other sentences"
   ]
  },
  {
   "cell_type": "code",
   "execution_count": 13,
   "id": "c1dad6d7",
   "metadata": {},
   "outputs": [
    {
     "name": "stdout",
     "output_type": "stream",
     "text": [
      "[0.056576211416730936, 0.052543935740309605, 0.06255591558357584, 0.059848428798889415, 0.038369306810941084, 0.06277633794290549, 0.07127362203465323, 0.04738322945792486, 0.06700461194077341, 0.062133750613806306, 0.06368383122677919, 0.05466439937821564, 0.03225625845480991, 0.04936070019310795, 0.06255829310046879, 0.061146509890574886, 0.06482765504504001, 0.06473986610489324, 0.07108183984374192, 0.03959758736122255, 0.05515915263835726, 0.07836641771267759, 0.07929459299301389, 0.05432370708933068, 0.051434953000273974, 0.05857032238784172, 0.047680510486745376, 0.039169570092930664, 0.06582944489586981, 0.050051886605797964, 0.03748743808407316, 0.031577842538079826, 0.04945765148512808, 0.028896189375740552, 0.05397646671761643, 0.050770645422101544, 0.025092094892623932, 0.03552374326910721, 0.07016172648092896, 0.02661932088360774, 0.05160249960312436, 0.021738950211856532, 0.027519844649081252, 0.020794833899129523, 0.018181818181818184, 0.05276589019059206, 0.04881042345987621, 0.025938205647186793, 0.0278317907090823, 0.04050624868578805, 0.06609827784491497, 0.021804689238385806, 0.03812417091295807, 0.05976926256563762, 0.0]\n"
     ]
    }
   ],
   "source": [
    "similarity_mean = []\n",
    "for row in range(len(similarity)) :\n",
    "    similarity_mean.append(np.mean(similarity[row]))\n",
    "print(similarity_mean)"
   ]
  },
  {
   "cell_type": "markdown",
   "id": "08e0c2ac",
   "metadata": {},
   "source": [
    "### Getting the indexes of highly related sentences "
   ]
  },
  {
   "cell_type": "code",
   "execution_count": 14,
   "id": "1f9642d7",
   "metadata": {
    "scrolled": false
   },
   "outputs": [
    {
     "name": "stdout",
     "output_type": "stream",
     "text": [
      "{0: 0.056576211416730936, 1: 0.052543935740309605, 2: 0.06255591558357584, 3: 0.059848428798889415, 4: 0.038369306810941084, 5: 0.06277633794290549, 6: 0.07127362203465323, 7: 0.04738322945792486, 8: 0.06700461194077341, 9: 0.062133750613806306, 10: 0.06368383122677919, 11: 0.05466439937821564, 12: 0.03225625845480991, 13: 0.04936070019310795, 14: 0.06255829310046879, 15: 0.061146509890574886, 16: 0.06482765504504001, 17: 0.06473986610489324, 18: 0.07108183984374192, 19: 0.03959758736122255, 20: 0.05515915263835726, 21: 0.07836641771267759, 22: 0.07929459299301389, 23: 0.05432370708933068, 24: 0.051434953000273974, 25: 0.05857032238784172, 26: 0.047680510486745376, 27: 0.039169570092930664, 28: 0.06582944489586981, 29: 0.050051886605797964, 30: 0.03748743808407316, 31: 0.031577842538079826, 32: 0.04945765148512808, 33: 0.028896189375740552, 34: 0.05397646671761643, 35: 0.050770645422101544, 36: 0.025092094892623932, 37: 0.03552374326910721, 38: 0.07016172648092896, 39: 0.02661932088360774, 40: 0.05160249960312436, 41: 0.021738950211856532, 42: 0.027519844649081252, 43: 0.020794833899129523, 44: 0.018181818181818184, 45: 0.05276589019059206, 46: 0.04881042345987621, 47: 0.025938205647186793, 48: 0.0278317907090823, 49: 0.04050624868578805, 50: 0.06609827784491497, 51: 0.021804689238385806, 52: 0.03812417091295807, 53: 0.05976926256563762, 54: 0.0}\n"
     ]
    }
   ],
   "source": [
    "dct = {i : similarity_mean[i] for i in range(0, len(similarity_mean))}\n",
    "print(dct)"
   ]
  },
  {
   "cell_type": "code",
   "execution_count": 15,
   "id": "aced2dc3",
   "metadata": {},
   "outputs": [
    {
     "name": "stdout",
     "output_type": "stream",
     "text": [
      "{54: 0.0, 44: 0.018181818181818184, 43: 0.020794833899129523, 41: 0.021738950211856532, 51: 0.021804689238385806, 36: 0.025092094892623932, 47: 0.025938205647186793, 39: 0.02661932088360774, 42: 0.027519844649081252, 48: 0.0278317907090823, 33: 0.028896189375740552, 31: 0.031577842538079826, 12: 0.03225625845480991, 37: 0.03552374326910721, 30: 0.03748743808407316, 52: 0.03812417091295807, 4: 0.038369306810941084, 27: 0.039169570092930664, 19: 0.03959758736122255, 49: 0.04050624868578805, 7: 0.04738322945792486, 26: 0.047680510486745376, 46: 0.04881042345987621, 13: 0.04936070019310795, 32: 0.04945765148512808, 29: 0.050051886605797964, 35: 0.050770645422101544, 24: 0.051434953000273974, 40: 0.05160249960312436, 1: 0.052543935740309605, 45: 0.05276589019059206, 34: 0.05397646671761643, 23: 0.05432370708933068, 11: 0.05466439937821564, 20: 0.05515915263835726, 0: 0.056576211416730936, 25: 0.05857032238784172, 53: 0.05976926256563762, 3: 0.059848428798889415, 15: 0.061146509890574886, 9: 0.062133750613806306, 2: 0.06255591558357584, 14: 0.06255829310046879, 5: 0.06277633794290549, 10: 0.06368383122677919, 17: 0.06473986610489324, 16: 0.06482765504504001, 28: 0.06582944489586981, 50: 0.06609827784491497, 8: 0.06700461194077341, 38: 0.07016172648092896, 18: 0.07108183984374192, 6: 0.07127362203465323, 21: 0.07836641771267759, 22: 0.07929459299301389}\n"
     ]
    }
   ],
   "source": [
    "sorted_dct = {k: v for k, v in sorted(dct.items(), key=lambda item: item[1])}\n",
    "print(sorted_dct)"
   ]
  },
  {
   "cell_type": "code",
   "execution_count": 16,
   "id": "bd01061e",
   "metadata": {},
   "outputs": [
    {
     "name": "stdout",
     "output_type": "stream",
     "text": [
      "[54, 44, 43, 41, 51, 36, 47, 39, 42, 48, 33, 31, 12, 37, 30, 52, 4, 27, 19, 49, 7, 26, 46, 13, 32, 29, 35, 24, 40, 1, 45, 34, 23, 11, 20, 0, 25, 53, 3, 15, 9, 2, 14, 5, 10, 17, 16, 28, 50, 8, 38, 18, 6, 21, 22]\n"
     ]
    }
   ],
   "source": [
    "index = []\n",
    "for i in (sorted_dct) :\n",
    "    index.append(i)\n",
    "print(index)"
   ]
  },
  {
   "cell_type": "markdown",
   "id": "5b997e6c",
   "metadata": {},
   "source": [
    "### Highly related indexes "
   ]
  },
  {
   "cell_type": "code",
   "execution_count": 17,
   "id": "fbb1e973",
   "metadata": {},
   "outputs": [
    {
     "data": {
      "text/plain": [
       "[17, 16, 28, 50, 8, 38, 18, 6, 21, 22]"
      ]
     },
     "execution_count": 17,
     "metadata": {},
     "output_type": "execute_result"
    }
   ],
   "source": [
    "highly_related_index = index[len(index)-10 : len(index)]\n",
    "highly_related_index"
   ]
  },
  {
   "cell_type": "code",
   "execution_count": 18,
   "id": "30c8c631",
   "metadata": {},
   "outputs": [],
   "source": [
    "highly_related_index.sort()\n",
    "summary=[]\n",
    "for i in highly_related_index :\n",
    "    summary.append(saveData.text[i])"
   ]
  },
  {
   "cell_type": "markdown",
   "id": "ae3e5e6b",
   "metadata": {},
   "source": [
    "### Summary of the paragraph "
   ]
  },
  {
   "cell_type": "code",
   "execution_count": 19,
   "id": "31a2ea64",
   "metadata": {},
   "outputs": [
    {
     "name": "stdout",
     "output_type": "stream",
     "text": [
      "processed and junk food are the mean of rapid and unhealthy weight gain and negatively impact the whole body throughout the life\n",
      "junk food taste good and look good however do not fulfil the healthy calorie requirement of the body\n",
      "high sodium and bad cholesterol diet increase blood pressure and overload the heart functioning\n",
      "one who like junk food develop more risk to put on extra weight and become fatter and unhealthier\n",
      "junk food contain high level carbohydrate which spike blood sugar level and make person more lethargic, sleepy and le active and alert\n",
      "junk food is the easiest way to gain unhealthy weight\n",
      "the amount of fat and sugar in the food make you gain weight rapidly\n",
      "for instance, food like french fries, burgers, candy, and cookies, all have high amount of sugar and fat\n",
      "to make thing worse, junk food also clog your artery and increase the risk of a heart attack\n",
      "this will help them to try food at home rather than being attracted to junk food\n"
     ]
    }
   ],
   "source": [
    "for row in summary :\n",
    "    print(row)"
   ]
  },
  {
   "cell_type": "markdown",
   "id": "7a31d989",
   "metadata": {},
   "source": [
    "### Function to get summary"
   ]
  },
  {
   "cell_type": "code",
   "execution_count": 20,
   "id": "1b2a57cf",
   "metadata": {},
   "outputs": [],
   "source": [
    "def summarize(text) :\n",
    "    text_lst = text.split(\".\")\n",
    "    data = pd.DataFrame(text_lst)\n",
    "    data.rename(columns={0:'text'},inplace = True)\n",
    "    saveData = data\n",
    "    data['text'] = data['text'].apply(lambda x : x.lower())\n",
    "    \n",
    "    lemmatizer = WordNetLemmatizer()\n",
    "    def lemmatize(column) :\n",
    "        lst = []\n",
    "        for i in column.split() :\n",
    "            lst.append(lemmatizer.lemmatize(i))\n",
    "        return \" \".join(lst)\n",
    "\n",
    "    data.text = data['text'].apply(lemmatize)\n",
    "    \n",
    "    tfidf = TfidfVectorizer(stop_words='english')\n",
    "    tfidf_matrix = tfidf.fit_transform(data['text'])\n",
    "    tfidf_matrix = tfidf_matrix.toarray()\n",
    "    \n",
    "    similarity = cosine_similarity(tfidf_matrix)\n",
    "    similarity_mean = []\n",
    "    for row in range(len(similarity)) :\n",
    "        similarity_mean.append(np.mean(similarity[row]))\n",
    "    \n",
    "    dct = {i : similarity_mean[i] for i in range(0, len(similarity_mean))}\n",
    "    sorted_dct = {k: v for k, v in sorted(dct.items(), key=lambda item: item[1])}\n",
    "    \n",
    "    index = []\n",
    "    for i in (sorted_dct) :\n",
    "        index.append(i)\n",
    "    highly_related_index = index[len(index)-10 : len(index)]\n",
    "    highly_related_index.sort()\n",
    "    \n",
    "    summary=[]\n",
    "    for i in highly_related_index :\n",
    "        summary.append(saveData.text[i])\n",
    "    \n",
    "    for row in summary :\n",
    "        print(row)"
   ]
  },
  {
   "cell_type": "code",
   "execution_count": 21,
   "id": "d1e73fbc",
   "metadata": {},
   "outputs": [
    {
     "name": "stdout",
     "output_type": "stream",
     "text": [
      "processed and junk food are the mean of rapid and unhealthy weight gain and negatively impact the whole body throughout the life\n",
      "junk food taste good and look good however do not fulfil the healthy calorie requirement of the body\n",
      "high sodium and bad cholesterol diet increase blood pressure and overload the heart functioning\n",
      "one who like junk food develop more risk to put on extra weight and become fatter and unhealthier\n",
      "junk food contain high level carbohydrate which spike blood sugar level and make person more lethargic, sleepy and le active and alert\n",
      "junk food is the easiest way to gain unhealthy weight\n",
      "the amount of fat and sugar in the food make you gain weight rapidly\n",
      "for instance, food like french fries, burgers, candy, and cookies, all have high amount of sugar and fat\n",
      "to make thing worse, junk food also clog your artery and increase the risk of a heart attack\n",
      "this will help them to try food at home rather than being attracted to junk food\n"
     ]
    }
   ],
   "source": [
    "text = \"Junk foods taste good that’s why it is mostly liked by everyone of any age group especially kids and school going children. They generally ask for the junk food daily because they have been trend so by their parents from the childhood. They never have been discussed by their parents about the harmful effects of junk foods over health. According to the research by scientists, it has been found that junk foods have negative effects on the health in many ways. They are generally fried food found in the market in the packets. They become high in calories, high in cholesterol, low in healthy nutrients, high in sodium mineral, high in sugar, starch, unhealthy fat, lack of protein and lack of dietary fibers. Processed and junk foods are the means of rapid and unhealthy weight gain and negatively impact the whole body throughout the life. It makes able a person to gain excessive weight which is called as obesity. Junk foods tastes good and looks good however do not fulfil the healthy calorie requirement of the body. Some of the foods like french fries, fried foods, pizza, burgers, candy, soft drinks, baked goods, ice cream, cookies, etc are the example of high-sugar and high-fat containing foods. It is found according to the Centres for Disease Control and Prevention that Kids and children eating junk food are more prone to the type-2 diabetes. In type-2 diabetes our body become unable to regulate blood sugar level. Risk of getting this disease is increasing as one become more obese or overweight. It increases the risk of kidney failure. Eating junk food daily lead us to the nutritional deficiencies in the body because it is lack of essential nutrients, vitamins, iron, minerals and dietary fibers. It increases risk of cardiovascular diseases because it is rich in saturated fat, sodium and bad cholesterol. High sodium and bad cholesterol diet increases blood pressure and overloads the heart functioning. One who like junk food develop more risk to put on extra weight and become fatter and unhealthier. Junk foods contain high level carbohydrate which spike blood sugar level and make person more lethargic, sleepy and less active and alert. Reflexes and senses of the people eating this food become dull day by day thus they live more sedentary life. Junk foods are the source of constipation and other disease like diabetes, heart ailments, clogged arteries, heart attack, strokes, etc because of being poor in nutrition. Junk food is the easiest way to gain unhealthy weight. The amount of fats and sugar in the food makes you gain weight rapidly. However, this is not a healthy weight. It is more of fats and cholesterol which will have a harmful impact on your health. Junk food is also one of the main reasons for the increase in obesity nowadays.This food only looks and tastes good, other than that, it has no positive points. The amount of calorie your body requires to stay fit is not fulfilled by this food. For instance, foods like French fries, burgers, candy, and cookies, all have high amounts of sugar and fats. Therefore, this can result in long-term illnesses like diabetes and high blood pressure. This may also result in kidney failure. Above all, you can get various nutritional deficiencies when you don’t consume the essential nutrients, vitamins, minerals and more. You become prone to cardiovascular diseases due to the consumption of bad cholesterol and fat plus sodium. In other words, all this interferes with the functioning of your heart. Furthermore, junk food contains a higher level of carbohydrates. It will instantly spike your blood sugar levels. This will result in lethargy, inactiveness, and sleepiness. A person reflex becomes dull overtime and they lead an inactive life. To make things worse, junk food also clogs your arteries and increases the risk of a heart attack. Therefore, it must be avoided at the first instance to save your life from becoming ruined.The main problem with junk food is that people don’t realize its ill effects now. When the time comes, it is too late. Most importantly, the issue is that it does not impact you instantly. It works on your overtime; you will face the consequences sooner or later. Thus, it is better to stop now.You can avoid junk food by encouraging your children from an early age to eat green vegetables. Their taste buds must be developed as such that they find healthy food tasty. Moreover, try to mix things up. Do not serve the same green vegetable daily in the same style. Incorporate different types of healthy food in their diet following different recipes. This will help them to try foods at home rather than being attracted to junk food.In short, do not deprive them completely of it as that will not help. Children will find one way or the other to have it. Make sure you give them junk food in limited quantities and at healthy periods of time.\"\n",
    "summarize(text)"
   ]
  },
  {
   "cell_type": "code",
   "execution_count": null,
   "id": "8c28014b",
   "metadata": {},
   "outputs": [],
   "source": []
  }
 ],
 "metadata": {
  "kernelspec": {
   "display_name": "Python 3 (ipykernel)",
   "language": "python",
   "name": "python3"
  },
  "language_info": {
   "codemirror_mode": {
    "name": "ipython",
    "version": 3
   },
   "file_extension": ".py",
   "mimetype": "text/x-python",
   "name": "python",
   "nbconvert_exporter": "python",
   "pygments_lexer": "ipython3",
   "version": "3.7.6"
  }
 },
 "nbformat": 4,
 "nbformat_minor": 5
}
