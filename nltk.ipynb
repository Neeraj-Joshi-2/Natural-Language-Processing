{
 "cells": [
  {
   "cell_type": "markdown",
   "metadata": {},
   "source": [
    "# Sentence Token"
   ]
  },
  {
   "cell_type": "code",
   "execution_count": 1,
   "metadata": {},
   "outputs": [],
   "source": [
    "from nltk import sent_tokenize"
   ]
  },
  {
   "cell_type": "code",
   "execution_count": 10,
   "metadata": {},
   "outputs": [],
   "source": [
    "string_ = 'Python is an interpreted high-level general-purpose programming language. Its design philosophy emphasizes code readability with its use of significant indentation. Its language constructs as well as its object-oriented approach aim to help programmers write clear, logical code for small and large-scale projects.'"
   ]
  },
  {
   "cell_type": "code",
   "execution_count": 11,
   "metadata": {},
   "outputs": [
    {
     "data": {
      "text/plain": [
       "['Python is an interpreted high-level general-purpose programming language.',\n",
       " 'Its design philosophy emphasizes code readability with its use of significant indentation.',\n",
       " 'Its language constructs as well as its object-oriented approach aim to help programmers write clear, logical code for small and large-scale projects.']"
      ]
     },
     "execution_count": 11,
     "metadata": {},
     "output_type": "execute_result"
    }
   ],
   "source": [
    "sent_tokenize(string_)"
   ]
  },
  {
   "cell_type": "markdown",
   "metadata": {},
   "source": [
    "# Words Token"
   ]
  },
  {
   "cell_type": "code",
   "execution_count": 12,
   "metadata": {},
   "outputs": [],
   "source": [
    "from nltk import word_tokenize"
   ]
  },
  {
   "cell_type": "code",
   "execution_count": 13,
   "metadata": {},
   "outputs": [
    {
     "name": "stdout",
     "output_type": "stream",
     "text": [
      "['Python', 'is', 'an', 'interpreted', 'high-level', 'general-purpose', 'programming', 'language', '.', 'Its', 'design', 'philosophy', 'emphasizes', 'code', 'readability', 'with', 'its', 'use', 'of', 'significant', 'indentation', '.', 'Its', 'language', 'constructs', 'as', 'well', 'as', 'its', 'object-oriented', 'approach', 'aim', 'to', 'help', 'programmers', 'write', 'clear', ',', 'logical', 'code', 'for', 'small', 'and', 'large-scale', 'projects', '.']\n"
     ]
    }
   ],
   "source": [
    "words = word_tokenize(string_)\n",
    "print(words)"
   ]
  },
  {
   "cell_type": "markdown",
   "metadata": {},
   "source": [
    "# Handling Stopwords"
   ]
  },
  {
   "cell_type": "code",
   "execution_count": 14,
   "metadata": {},
   "outputs": [],
   "source": [
    "from nltk.corpus import stopwords\n",
    "import string"
   ]
  },
  {
   "cell_type": "code",
   "execution_count": 15,
   "metadata": {},
   "outputs": [],
   "source": [
    "stop_words = set(stopwords.words('english'))\n",
    "# stop_words"
   ]
  },
  {
   "cell_type": "code",
   "execution_count": 16,
   "metadata": {},
   "outputs": [],
   "source": [
    "filtered_sentence = []"
   ]
  },
  {
   "cell_type": "code",
   "execution_count": 17,
   "metadata": {},
   "outputs": [
    {
     "data": {
      "text/plain": [
       "['Python',\n",
       " 'interpreted',\n",
       " 'high-level',\n",
       " 'general-purpose',\n",
       " 'programming',\n",
       " 'language',\n",
       " '.',\n",
       " 'Its',\n",
       " 'design',\n",
       " 'philosophy',\n",
       " 'emphasizes',\n",
       " 'code',\n",
       " 'readability',\n",
       " 'use',\n",
       " 'significant',\n",
       " 'indentation',\n",
       " '.',\n",
       " 'Its',\n",
       " 'language',\n",
       " 'constructs',\n",
       " 'well',\n",
       " 'object-oriented',\n",
       " 'approach',\n",
       " 'aim',\n",
       " 'help',\n",
       " 'programmers',\n",
       " 'write',\n",
       " 'clear',\n",
       " ',',\n",
       " 'logical',\n",
       " 'code',\n",
       " 'small',\n",
       " 'large-scale',\n",
       " 'projects',\n",
       " '.']"
      ]
     },
     "execution_count": 17,
     "metadata": {},
     "output_type": "execute_result"
    }
   ],
   "source": [
    "for w in words:\n",
    "    if w not in stop_words:\n",
    "        filtered_sentence.append(w)\n",
    "\n",
    "filtered_sentence"
   ]
  },
  {
   "cell_type": "markdown",
   "metadata": {},
   "source": [
    "# Stemming using nltk"
   ]
  },
  {
   "cell_type": "code",
   "execution_count": 18,
   "metadata": {
    "scrolled": false
   },
   "outputs": [
    {
     "name": "stdout",
     "output_type": "stream",
     "text": [
      "Python  :  python\n",
      "interpreted  :  interpret\n",
      "high-level  :  high-level\n",
      "general-purpose  :  general-purpos\n",
      "programming  :  program\n",
      "language  :  languag\n",
      ".  :  .\n",
      "Its  :  it\n",
      "design  :  design\n",
      "philosophy  :  philosophi\n",
      "emphasizes  :  emphas\n",
      "code  :  code\n",
      "readability  :  readabl\n",
      "use  :  use\n",
      "significant  :  signific\n",
      "indentation  :  indent\n",
      ".  :  .\n",
      "Its  :  it\n",
      "language  :  languag\n",
      "constructs  :  construct\n",
      "well  :  well\n",
      "object-oriented  :  object-ori\n",
      "approach  :  approach\n",
      "aim  :  aim\n",
      "help  :  help\n",
      "programmers  :  programm\n",
      "write  :  write\n",
      "clear  :  clear\n",
      ",  :  ,\n",
      "logical  :  logic\n",
      "code  :  code\n",
      "small  :  small\n",
      "large-scale  :  large-scal\n",
      "projects  :  project\n",
      ".  :  .\n"
     ]
    }
   ],
   "source": [
    "from nltk.stem import PorterStemmer\n",
    "\n",
    "ps = PorterStemmer()\n",
    "\n",
    "stemmed_words = []\n",
    "\n",
    "for w in filtered_sentence :\n",
    "    print(w, \" : \", ps.stem(w))\n",
    "    stemmed_words.append(ps.stem(w))\n"
   ]
  },
  {
   "cell_type": "code",
   "execution_count": 32,
   "metadata": {},
   "outputs": [
    {
     "name": "stdout",
     "output_type": "stream",
     "text": [
      "['python', 'interpret', 'high-level', 'general-purpos', 'program', 'languag', '.', 'it', 'design', 'philosophi', 'emphas', 'code', 'readabl', 'use', 'signific', 'indent', '.', 'it', 'languag', 'construct', 'well', 'object-ori', 'approach', 'aim', 'help', 'programm', 'write', 'clear', ',', 'logic', 'code', 'small', 'large-scal', 'project', '.', 'python', 'interpret', 'high-level', 'general-purpos', 'program', 'languag', '.', 'it', 'design', 'philosophi', 'emphas', 'code', 'readabl', 'use', 'signific', 'indent', '.', 'it', 'languag', 'construct', 'well', 'object-ori', 'approach', 'aim', 'help', 'programm', 'write', 'clear', ',', 'logic', 'code', 'small', 'large-scal', 'project', '.']\n"
     ]
    }
   ],
   "source": [
    "print(stemmed_words)"
   ]
  },
  {
   "cell_type": "markdown",
   "metadata": {},
   "source": [
    "# Lemmatization using nltk"
   ]
  },
  {
   "cell_type": "code",
   "execution_count": null,
   "metadata": {},
   "outputs": [],
   "source": [
    "import nltk\n",
    "nltk.download('wordnet')"
   ]
  },
  {
   "cell_type": "code",
   "execution_count": 34,
   "metadata": {
    "scrolled": false
   },
   "outputs": [
    {
     "name": "stdout",
     "output_type": "stream",
     "text": [
      "Python  :  Python\n",
      "interpreted  :  interpreted\n",
      "high-level  :  high-level\n",
      "general-purpose  :  general-purpose\n",
      "programming  :  programming\n",
      "language  :  language\n",
      ".  :  .\n",
      "Its  :  Its\n",
      "design  :  design\n",
      "philosophy  :  philosophy\n",
      "emphasizes  :  emphasizes\n",
      "code  :  code\n",
      "readability  :  readability\n",
      "use  :  use\n",
      "significant  :  significant\n",
      "indentation  :  indentation\n",
      ".  :  .\n",
      "Its  :  Its\n",
      "language  :  language\n",
      "constructs  :  construct\n",
      "well  :  well\n",
      "object-oriented  :  object-oriented\n",
      "approach  :  approach\n",
      "aim  :  aim\n",
      "help  :  help\n",
      "programmers  :  programmer\n",
      "write  :  write\n",
      "clear  :  clear\n",
      ",  :  ,\n",
      "logical  :  logical\n",
      "code  :  code\n",
      "small  :  small\n",
      "large-scale  :  large-scale\n",
      "projects  :  project\n",
      ".  :  .\n",
      "Python  :  Python\n",
      "interpreted  :  interpreted\n",
      "high-level  :  high-level\n",
      "general-purpose  :  general-purpose\n",
      "programming  :  programming\n",
      "language  :  language\n",
      ".  :  .\n",
      "Its  :  Its\n",
      "design  :  design\n",
      "philosophy  :  philosophy\n",
      "emphasizes  :  emphasizes\n",
      "code  :  code\n",
      "readability  :  readability\n",
      "use  :  use\n",
      "significant  :  significant\n",
      "indentation  :  indentation\n",
      ".  :  .\n",
      "Its  :  Its\n",
      "language  :  language\n",
      "constructs  :  construct\n",
      "well  :  well\n",
      "object-oriented  :  object-oriented\n",
      "approach  :  approach\n",
      "aim  :  aim\n",
      "help  :  help\n",
      "programmers  :  programmer\n",
      "write  :  write\n",
      "clear  :  clear\n",
      ",  :  ,\n",
      "logical  :  logical\n",
      "code  :  code\n",
      "small  :  small\n",
      "large-scale  :  large-scale\n",
      "projects  :  project\n",
      ".  :  .\n"
     ]
    }
   ],
   "source": [
    "from nltk.stem import WordNetLemmatizer\n",
    "\n",
    "lemmatizer = WordNetLemmatizer()\n",
    "\n",
    "lemmatized_words = []\n",
    "\n",
    "for w in filtered_sentence :\n",
    "    print(w, \" : \", lemmatizer.lemmatize(w))\n",
    "    lemmatized_words.append(lemmatizer.lemmatize(w))"
   ]
  },
  {
   "cell_type": "code",
   "execution_count": 35,
   "metadata": {},
   "outputs": [
    {
     "name": "stdout",
     "output_type": "stream",
     "text": [
      "['Python', 'interpreted', 'high-level', 'general-purpose', 'programming', 'language', '.', 'Its', 'design', 'philosophy', 'emphasizes', 'code', 'readability', 'use', 'significant', 'indentation', '.', 'Its', 'language', 'construct', 'well', 'object-oriented', 'approach', 'aim', 'help', 'programmer', 'write', 'clear', ',', 'logical', 'code', 'small', 'large-scale', 'project', '.', 'Python', 'interpreted', 'high-level', 'general-purpose', 'programming', 'language', '.', 'Its', 'design', 'philosophy', 'emphasizes', 'code', 'readability', 'use', 'significant', 'indentation', '.', 'Its', 'language', 'construct', 'well', 'object-oriented', 'approach', 'aim', 'help', 'programmer', 'write', 'clear', ',', 'logical', 'code', 'small', 'large-scale', 'project', '.']\n"
     ]
    }
   ],
   "source": [
    "print(lemmatized_words)"
   ]
  },
  {
   "cell_type": "markdown",
   "metadata": {},
   "source": [
    "# Difference in Stemming and Lemmatizatioin"
   ]
  },
  {
   "cell_type": "code",
   "execution_count": 29,
   "metadata": {},
   "outputs": [
    {
     "name": "stdout",
     "output_type": "stream",
     "text": [
      "Stemming :  studi\n",
      "Lemmatization :  study\n"
     ]
    }
   ],
   "source": [
    "word = 'studies'\n",
    "print('Stemming : ' , ps.stem(word))\n",
    "print('Lemmatization : ' , lemmatizer.lemmatize(word))"
   ]
  },
  {
   "cell_type": "markdown",
   "metadata": {},
   "source": [
    "# Task - 2\n",
    "# Extracting news"
   ]
  },
  {
   "cell_type": "code",
   "execution_count": 5,
   "metadata": {},
   "outputs": [],
   "source": [
    "import requests\n",
    "from bs4 import BeautifulSoup"
   ]
  },
  {
   "cell_type": "code",
   "execution_count": 6,
   "metadata": {},
   "outputs": [
    {
     "name": "stdout",
     "output_type": "stream",
     "text": [
      "UK withdrawing some embassy staff from Ukraine\n",
      "UK withdrawing some embassy staff from Ukraine\n",
      "Navratilova blasts Peng Shuai T-shirt ban\n",
      "Up to 84% of Tongans hit by ash fall and tsunami\n",
      "Fashion designer Thierry Mugler dies aged 73\n",
      "Man admits abducting Australian girl Cleo Smith\n",
      "Two Olympics and two very different Chinas\n",
      "The mystery surrounding Mahatma Gandhi's killer\n",
      "Taliban begin talks with western officials\n",
      "Australia mines giant buys Williams F1 battery arm\n",
      "Cathay Pacific losses narrow despite virus curbs\n",
      "Burkina Faso president detained - reports\n",
      "Cathay Pacific losses narrow despite virus curbs\n",
      "Burkina Faso president detained - reports\n",
      "Plane stowaway found in Amsterdam survived in wheel\n",
      "UK PM orders inquiry into 'Muslimness' sacking claim\n",
      "Dutch tourist fined over Nazi salute at Auschwitz\n",
      "'Such is life': NZ PM calls off wedding\n",
      "BBC World News TV\n",
      "BBC World Service Radio\n",
      "The children groomed for the UK sex trade\n",
      "Kenya’s 'hidden epidemic'\n",
      "An untold story of a 1920s swimming icon\n",
      "The science behind why doughnuts are so hard to resist\n",
      "Brian Wilson looks back at his life in new film\n",
      "How will Tonga's broken internet cable be mended?\n",
      "The blind CEO’s £48m company which nearly didn’t happen\n",
      "The people deciding to ditch their smartphones\n",
      "Protests turn nasty as Covid rules anger Germans\n",
      "'I lost my job for being unvaccinated'\n",
      "Finding love as a trans woman\n",
      "Actors and agents warn NDAs are misused in casting\n",
      "Recording my dad’s voice has kept his memory alive\n",
      "'I’ll stay on the phone until you’re in the door’\n",
      "The museum at the end of the world reopens at last\n",
      "The Eastern European giant at war with itself\n",
      "Mental health unit failures exposed by patients\n",
      "Asia's new love of forest schools\n",
      "The job-hunters sending video CVs\n",
      "The rebirth of Cuba's abandoned city\n",
      "The world's most influential actor?\n",
      "The 'outrageous' green plan for coal\n",
      "Why hybrid is emotionally exhausting\n",
      "Napoleon's gravity-defying 325km road\n",
      "Premier League reaction and transfer latest\n",
      "England beat West Indies by one run after thrilling finish in Barbados\n",
      "Chiefs and Rams clinch thrilling play-off wins to cap weekend of high drama\n",
      "Ramos scores first PSG goal as leaders eventually see off Reims\n",
      "Medvedev comes through 'most unlucky day of my life' to make last eight\n",
      "Sublime Ziyech strike helps Chelsea beat Tottenham for third time in three weeks\n",
      "De Jong's late winner sends Barca up to fifth place\n",
      "News daily newsletter\n",
      "Mobile app\n",
      "Get in touch\n"
     ]
    }
   ],
   "source": [
    "url = 'https://www.bbc.com/news'\n",
    "response = requests.get(url)\n",
    "\n",
    "soup = BeautifulSoup(response.text, 'html.parser')\n",
    "headlines = soup.find('body').find_all('h3')\n",
    "\n",
    "for x in headlines:\n",
    "    print(x.text.strip())"
   ]
  },
  {
   "cell_type": "code",
   "execution_count": 10,
   "metadata": {},
   "outputs": [
    {
     "name": "stdout",
     "output_type": "stream",
     "text": [
      "TOP BUISNESS HEADLINES FROM USA RIGHT NOW\n",
      "\n",
      "\n",
      "Elon Musk — the world's richest man — has lost $27 billion year-to-date, and is now worth $243 billion after hitting a high in November of more than $300 billion. The world's top five tech tycoons have already lost $85.07 billion in net worth in the first few weeks of 2022 as their fortunes took a massive hit from last week's market selloff.\n",
      "The brutal stock … [+1339 chars]\n",
      "\n",
      "TOP BUISNESS HEADLINES FROM INDIA:\n",
      "\n",
      "\n",
      "The Indian equity benchmarks continued to plunge for the fifth straight session on Monday amid weak global cues. The overall market breadth was weak as 689 shares were advancing while 2,410 were declining on BSE.\n",
      "New Delhi: The Indian equity benchmarks continued to plunge for the fifth straight session on Mond… [+1706 chars]\n",
      "\n",
      "TOP SPORTS HEADLINES FROM INDIA:\n",
      "\n",
      "\n",
      "India New Test Captain: BCCI to officially name Rohit Sharma as new test captain, announcement before India vs West Indies Series: India Cricket LIVE Updates India New Test Captain – Rohit Sharma Test Captain: All the confusion, questions in regard to India’s New Test Captain can be laid to rest. The BCCI is set to name Rohit Sharma as India’s New TEST Ca… [+4323 chars]\n",
      "\n"
     ]
    }
   ],
   "source": [
    "print(\"TOP BUISNESS HEADLINES FROM USA RIGHT NOW\")\n",
    "a=requests.get(\"http://newsapi.org/v2/top-headlines?country=us&category=business&apiKey=d22688c2ded645c58f52fa946c80e72a\").json()\n",
    "news_desc_a=a['articles'][0]['description']\n",
    "news_content_a=a['articles'][0]['content']\n",
    "print('\\n')\n",
    "print(news_desc_a,news_content_a , end = '\\n\\n')\n",
    "\n",
    "print(\"TOP BUISNESS HEADLINES FROM INDIA:\")\n",
    "b=requests.get(\"http://newsapi.org/v2/top-headlines?country=in&category=business&apiKey=d22688c2ded645c58f52fa946c80e72a\").json()\n",
    "news_desc_b=b['articles'][0]['description']\n",
    "news_content_b=b['articles'][0]['content']\n",
    "print('\\n')\n",
    "print(news_desc_b,news_content_b , end = '\\n\\n')\n",
    "\n",
    "print(\"TOP SPORTS HEADLINES FROM INDIA:\")\n",
    "c=requests.get(\"http://newsapi.org/v2/top-headlines?country=in&category=sports&apiKey=d22688c2ded645c58f52fa946c80e72a\").json()\n",
    "news_desc_c=c['articles'][0]['description']\n",
    "news_content_c=c['articles'][0]['content']\n",
    "print('\\n')\n",
    "print(news_desc_c,news_content_c , end = '\\n\\n')"
   ]
  }
 ],
 "metadata": {
  "kernelspec": {
   "display_name": "Python 3",
   "language": "python",
   "name": "python3"
  },
  "language_info": {
   "codemirror_mode": {
    "name": "ipython",
    "version": 3
   },
   "file_extension": ".py",
   "mimetype": "text/x-python",
   "name": "python",
   "nbconvert_exporter": "python",
   "pygments_lexer": "ipython3",
   "version": "3.7.6"
  }
 },
 "nbformat": 4,
 "nbformat_minor": 4
}
